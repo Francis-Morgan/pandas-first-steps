{
 "cells": [
  {
   "cell_type": "markdown",
   "metadata": {},
   "source": [
    "# Indexing and selecting data"
   ]
  },
  {
   "cell_type": "code",
   "execution_count": 23,
   "metadata": {},
   "outputs": [],
   "source": [
    "import pandas as pd"
   ]
  },
  {
   "cell_type": "code",
   "execution_count": 24,
   "metadata": {},
   "outputs": [
    {
     "data": {
      "text/html": [
       "<div>\n",
       "<style scoped>\n",
       "    .dataframe tbody tr th:only-of-type {\n",
       "        vertical-align: middle;\n",
       "    }\n",
       "\n",
       "    .dataframe tbody tr th {\n",
       "        vertical-align: top;\n",
       "    }\n",
       "\n",
       "    .dataframe thead th {\n",
       "        text-align: right;\n",
       "    }\n",
       "</style>\n",
       "<table border=\"1\" class=\"dataframe\">\n",
       "  <thead>\n",
       "    <tr style=\"text-align: right;\">\n",
       "      <th></th>\n",
       "      <th>Train</th>\n",
       "      <th>Departure time</th>\n",
       "      <th>Arrival time</th>\n",
       "      <th>Route</th>\n",
       "    </tr>\n",
       "  </thead>\n",
       "  <tbody>\n",
       "    <tr>\n",
       "      <td>0</td>\n",
       "      <td>111Л</td>\n",
       "      <td>9:50</td>\n",
       "      <td>16:13</td>\n",
       "      <td>Kharkiv - Lviv</td>\n",
       "    </tr>\n",
       "    <tr>\n",
       "      <td>1</td>\n",
       "      <td>145К</td>\n",
       "      <td>17:45</td>\n",
       "      <td>10:30</td>\n",
       "      <td>Kyiv - Izmail</td>\n",
       "    </tr>\n",
       "    <tr>\n",
       "      <td>2</td>\n",
       "      <td>867К</td>\n",
       "      <td>5:38</td>\n",
       "      <td>9:28</td>\n",
       "      <td>Kyiv - Vynitsya</td>\n",
       "    </tr>\n",
       "    <tr>\n",
       "      <td>3</td>\n",
       "      <td>734Л</td>\n",
       "      <td>17:35</td>\n",
       "      <td>23:29</td>\n",
       "      <td>Kyiv - Dnipro</td>\n",
       "    </tr>\n",
       "    <tr>\n",
       "      <td>4</td>\n",
       "      <td>136Л</td>\n",
       "      <td>21:40</td>\n",
       "      <td>9:58</td>\n",
       "      <td>Lviv - Odesa</td>\n",
       "    </tr>\n",
       "  </tbody>\n",
       "</table>\n",
       "</div>"
      ],
      "text/plain": [
       "  Train Departure time Arrival time            Route\n",
       "0  111Л           9:50        16:13   Kharkiv - Lviv\n",
       "1  145К          17:45        10:30    Kyiv - Izmail\n",
       "2  867К           5:38         9:28  Kyiv - Vynitsya\n",
       "3  734Л          17:35        23:29    Kyiv - Dnipro\n",
       "4  136Л          21:40         9:58     Lviv - Odesa"
      ]
     },
     "execution_count": 24,
     "metadata": {},
     "output_type": "execute_result"
    }
   ],
   "source": [
    "trains = pd.read_csv('train.csv',sep = '\\t\\t', delimiter = ';')\n",
    "trains"
   ]
  },
  {
   "cell_type": "code",
   "execution_count": 25,
   "metadata": {},
   "outputs": [
    {
     "data": {
      "text/plain": [
       "Index(['Train', 'Departure time', 'Arrival time', 'Route'], dtype='object')"
      ]
     },
     "execution_count": 25,
     "metadata": {},
     "output_type": "execute_result"
    }
   ],
   "source": [
    "trains.columns"
   ]
  },
  {
   "cell_type": "markdown",
   "metadata": {},
   "source": [
    "## Convert to datetime type"
   ]
  },
  {
   "cell_type": "code",
   "execution_count": 29,
   "metadata": {},
   "outputs": [
    {
     "data": {
      "text/html": [
       "<div>\n",
       "<style scoped>\n",
       "    .dataframe tbody tr th:only-of-type {\n",
       "        vertical-align: middle;\n",
       "    }\n",
       "\n",
       "    .dataframe tbody tr th {\n",
       "        vertical-align: top;\n",
       "    }\n",
       "\n",
       "    .dataframe thead th {\n",
       "        text-align: right;\n",
       "    }\n",
       "</style>\n",
       "<table border=\"1\" class=\"dataframe\">\n",
       "  <thead>\n",
       "    <tr style=\"text-align: right;\">\n",
       "      <th></th>\n",
       "      <th>Train</th>\n",
       "      <th>Departure time</th>\n",
       "      <th>Arrival time</th>\n",
       "      <th>Route</th>\n",
       "    </tr>\n",
       "  </thead>\n",
       "  <tbody>\n",
       "    <tr>\n",
       "      <td>0</td>\n",
       "      <td>111Л</td>\n",
       "      <td>2020-04-07 09:50:00</td>\n",
       "      <td>2020-04-07 16:13:00</td>\n",
       "      <td>Kharkiv - Lviv</td>\n",
       "    </tr>\n",
       "    <tr>\n",
       "      <td>1</td>\n",
       "      <td>145К</td>\n",
       "      <td>2020-04-07 17:45:00</td>\n",
       "      <td>2020-04-07 10:30:00</td>\n",
       "      <td>Kyiv - Izmail</td>\n",
       "    </tr>\n",
       "    <tr>\n",
       "      <td>2</td>\n",
       "      <td>867К</td>\n",
       "      <td>2020-04-07 05:38:00</td>\n",
       "      <td>2020-04-07 09:28:00</td>\n",
       "      <td>Kyiv - Vynitsya</td>\n",
       "    </tr>\n",
       "    <tr>\n",
       "      <td>3</td>\n",
       "      <td>734Л</td>\n",
       "      <td>2020-04-07 17:35:00</td>\n",
       "      <td>2020-04-07 23:29:00</td>\n",
       "      <td>Kyiv - Dnipro</td>\n",
       "    </tr>\n",
       "    <tr>\n",
       "      <td>4</td>\n",
       "      <td>136Л</td>\n",
       "      <td>2020-04-07 21:40:00</td>\n",
       "      <td>2020-04-07 09:58:00</td>\n",
       "      <td>Lviv - Odesa</td>\n",
       "    </tr>\n",
       "  </tbody>\n",
       "</table>\n",
       "</div>"
      ],
      "text/plain": [
       "  Train      Departure time        Arrival time            Route\n",
       "0  111Л 2020-04-07 09:50:00 2020-04-07 16:13:00   Kharkiv - Lviv\n",
       "1  145К 2020-04-07 17:45:00 2020-04-07 10:30:00    Kyiv - Izmail\n",
       "2  867К 2020-04-07 05:38:00 2020-04-07 09:28:00  Kyiv - Vynitsya\n",
       "3  734Л 2020-04-07 17:35:00 2020-04-07 23:29:00    Kyiv - Dnipro\n",
       "4  136Л 2020-04-07 21:40:00 2020-04-07 09:58:00     Lviv - Odesa"
      ]
     },
     "execution_count": 29,
     "metadata": {},
     "output_type": "execute_result"
    }
   ],
   "source": [
    "trains['Departure time'] = pd.to_datetime(trains['Departure time'], format = '%H:%M')\n",
    "trains['Arrival time'] = pd.to_datetime(trains['Arrival time'])\n",
    "trains"
   ]
  },
  {
   "cell_type": "markdown",
   "metadata": {},
   "source": [
    "## Information about our dataframe"
   ]
  },
  {
   "cell_type": "code",
   "execution_count": 30,
   "metadata": {},
   "outputs": [
    {
     "name": "stdout",
     "output_type": "stream",
     "text": [
      "<class 'pandas.core.frame.DataFrame'>\n",
      "RangeIndex: 5 entries, 0 to 4\n",
      "Data columns (total 4 columns):\n",
      "Train             5 non-null object\n",
      "Departure time    5 non-null datetime64[ns]\n",
      "Arrival time      5 non-null datetime64[ns]\n",
      "Route             5 non-null object\n",
      "dtypes: datetime64[ns](2), object(2)\n",
      "memory usage: 288.0+ bytes\n"
     ]
    }
   ],
   "source": [
    "trains.info()"
   ]
  },
  {
   "cell_type": "code",
   "execution_count": 35,
   "metadata": {},
   "outputs": [
    {
     "data": {
      "text/html": [
       "<div>\n",
       "<style scoped>\n",
       "    .dataframe tbody tr th:only-of-type {\n",
       "        vertical-align: middle;\n",
       "    }\n",
       "\n",
       "    .dataframe tbody tr th {\n",
       "        vertical-align: top;\n",
       "    }\n",
       "\n",
       "    .dataframe thead th {\n",
       "        text-align: right;\n",
       "    }\n",
       "</style>\n",
       "<table border=\"1\" class=\"dataframe\">\n",
       "  <thead>\n",
       "    <tr style=\"text-align: right;\">\n",
       "      <th></th>\n",
       "      <th>Train</th>\n",
       "      <th>Departure time</th>\n",
       "      <th>Arrival time</th>\n",
       "      <th>Route</th>\n",
       "      <th>Frequency</th>\n",
       "    </tr>\n",
       "  </thead>\n",
       "  <tbody>\n",
       "    <tr>\n",
       "      <td>0</td>\n",
       "      <td>111Л</td>\n",
       "      <td>2020-04-07 09:50:00</td>\n",
       "      <td>2020-04-07 16:13:00</td>\n",
       "      <td>Kharkiv - Lviv</td>\n",
       "      <td>everyday</td>\n",
       "    </tr>\n",
       "    <tr>\n",
       "      <td>1</td>\n",
       "      <td>145К</td>\n",
       "      <td>2020-04-07 17:45:00</td>\n",
       "      <td>2020-04-07 10:30:00</td>\n",
       "      <td>Kyiv - Izmail</td>\n",
       "      <td>everyday</td>\n",
       "    </tr>\n",
       "    <tr>\n",
       "      <td>2</td>\n",
       "      <td>867К</td>\n",
       "      <td>2020-04-07 05:38:00</td>\n",
       "      <td>2020-04-07 09:28:00</td>\n",
       "      <td>Kyiv - Vynitsya</td>\n",
       "      <td>everyday</td>\n",
       "    </tr>\n",
       "    <tr>\n",
       "      <td>3</td>\n",
       "      <td>734Л</td>\n",
       "      <td>2020-04-07 17:35:00</td>\n",
       "      <td>2020-04-07 23:29:00</td>\n",
       "      <td>Kyiv - Dnipro</td>\n",
       "      <td>None</td>\n",
       "    </tr>\n",
       "    <tr>\n",
       "      <td>4</td>\n",
       "      <td>136Л</td>\n",
       "      <td>2020-04-07 21:40:00</td>\n",
       "      <td>2020-04-07 09:58:00</td>\n",
       "      <td>Lviv - Odesa</td>\n",
       "      <td>None</td>\n",
       "    </tr>\n",
       "  </tbody>\n",
       "</table>\n",
       "</div>"
      ],
      "text/plain": [
       "  Train      Departure time        Arrival time            Route Frequency\n",
       "0  111Л 2020-04-07 09:50:00 2020-04-07 16:13:00   Kharkiv - Lviv  everyday\n",
       "1  145К 2020-04-07 17:45:00 2020-04-07 10:30:00    Kyiv - Izmail  everyday\n",
       "2  867К 2020-04-07 05:38:00 2020-04-07 09:28:00  Kyiv - Vynitsya  everyday\n",
       "3  734Л 2020-04-07 17:35:00 2020-04-07 23:29:00    Kyiv - Dnipro      None\n",
       "4  136Л 2020-04-07 21:40:00 2020-04-07 09:58:00     Lviv - Odesa      None"
      ]
     },
     "execution_count": 35,
     "metadata": {},
     "output_type": "execute_result"
    }
   ],
   "source": [
    "trains['Frequency'] = ['everyday'] * 3 + [None] *2\n",
    "trains"
   ]
  },
  {
   "cell_type": "markdown",
   "metadata": {},
   "source": [
    "## None -> value"
   ]
  },
  {
   "cell_type": "code",
   "execution_count": 38,
   "metadata": {},
   "outputs": [
    {
     "data": {
      "text/html": [
       "<div>\n",
       "<style scoped>\n",
       "    .dataframe tbody tr th:only-of-type {\n",
       "        vertical-align: middle;\n",
       "    }\n",
       "\n",
       "    .dataframe tbody tr th {\n",
       "        vertical-align: top;\n",
       "    }\n",
       "\n",
       "    .dataframe thead th {\n",
       "        text-align: right;\n",
       "    }\n",
       "</style>\n",
       "<table border=\"1\" class=\"dataframe\">\n",
       "  <thead>\n",
       "    <tr style=\"text-align: right;\">\n",
       "      <th></th>\n",
       "      <th>Train</th>\n",
       "      <th>Departure time</th>\n",
       "      <th>Arrival time</th>\n",
       "      <th>Route</th>\n",
       "      <th>Frequency</th>\n",
       "    </tr>\n",
       "  </thead>\n",
       "  <tbody>\n",
       "    <tr>\n",
       "      <td>0</td>\n",
       "      <td>111Л</td>\n",
       "      <td>2020-04-07 09:50:00</td>\n",
       "      <td>2020-04-07 16:13:00</td>\n",
       "      <td>Kharkiv - Lviv</td>\n",
       "      <td>everyday</td>\n",
       "    </tr>\n",
       "    <tr>\n",
       "      <td>1</td>\n",
       "      <td>145К</td>\n",
       "      <td>2020-04-07 17:45:00</td>\n",
       "      <td>2020-04-07 10:30:00</td>\n",
       "      <td>Kyiv - Izmail</td>\n",
       "      <td>everyday</td>\n",
       "    </tr>\n",
       "    <tr>\n",
       "      <td>2</td>\n",
       "      <td>867К</td>\n",
       "      <td>2020-04-07 05:38:00</td>\n",
       "      <td>2020-04-07 09:28:00</td>\n",
       "      <td>Kyiv - Vynitsya</td>\n",
       "      <td>everyday</td>\n",
       "    </tr>\n",
       "    <tr>\n",
       "      <td>3</td>\n",
       "      <td>734Л</td>\n",
       "      <td>2020-04-07 17:35:00</td>\n",
       "      <td>2020-04-07 23:29:00</td>\n",
       "      <td>Kyiv - Dnipro</td>\n",
       "      <td>twice a week</td>\n",
       "    </tr>\n",
       "    <tr>\n",
       "      <td>4</td>\n",
       "      <td>136Л</td>\n",
       "      <td>2020-04-07 21:40:00</td>\n",
       "      <td>2020-04-07 09:58:00</td>\n",
       "      <td>Lviv - Odesa</td>\n",
       "      <td>twice a week</td>\n",
       "    </tr>\n",
       "  </tbody>\n",
       "</table>\n",
       "</div>"
      ],
      "text/plain": [
       "  Train      Departure time        Arrival time            Route     Frequency\n",
       "0  111Л 2020-04-07 09:50:00 2020-04-07 16:13:00   Kharkiv - Lviv      everyday\n",
       "1  145К 2020-04-07 17:45:00 2020-04-07 10:30:00    Kyiv - Izmail      everyday\n",
       "2  867К 2020-04-07 05:38:00 2020-04-07 09:28:00  Kyiv - Vynitsya      everyday\n",
       "3  734Л 2020-04-07 17:35:00 2020-04-07 23:29:00    Kyiv - Dnipro  twice a week\n",
       "4  136Л 2020-04-07 21:40:00 2020-04-07 09:58:00     Lviv - Odesa  twice a week"
      ]
     },
     "execution_count": 38,
     "metadata": {},
     "output_type": "execute_result"
    }
   ],
   "source": [
    "trains.fillna('twice a week', inplace = True)\n",
    "trains"
   ]
  },
  {
   "cell_type": "code",
   "execution_count": 40,
   "metadata": {},
   "outputs": [
    {
     "data": {
      "text/plain": [
       "0     Kharkiv - Lviv\n",
       "1      Kyiv - Izmail\n",
       "2    Kyiv - Vynitsya\n",
       "3      Kyiv - Dnipro\n",
       "4       Lviv - Odesa\n",
       "Name: Route, dtype: object"
      ]
     },
     "execution_count": 40,
     "metadata": {},
     "output_type": "execute_result"
    }
   ],
   "source": [
    "trains.Route"
   ]
  },
  {
   "cell_type": "code",
   "execution_count": 41,
   "metadata": {},
   "outputs": [
    {
     "data": {
      "text/html": [
       "<div>\n",
       "<style scoped>\n",
       "    .dataframe tbody tr th:only-of-type {\n",
       "        vertical-align: middle;\n",
       "    }\n",
       "\n",
       "    .dataframe tbody tr th {\n",
       "        vertical-align: top;\n",
       "    }\n",
       "\n",
       "    .dataframe thead th {\n",
       "        text-align: right;\n",
       "    }\n",
       "</style>\n",
       "<table border=\"1\" class=\"dataframe\">\n",
       "  <thead>\n",
       "    <tr style=\"text-align: right;\">\n",
       "      <th></th>\n",
       "      <th>Route</th>\n",
       "    </tr>\n",
       "  </thead>\n",
       "  <tbody>\n",
       "    <tr>\n",
       "      <td>0</td>\n",
       "      <td>Kharkiv - Lviv</td>\n",
       "    </tr>\n",
       "    <tr>\n",
       "      <td>1</td>\n",
       "      <td>Kyiv - Izmail</td>\n",
       "    </tr>\n",
       "    <tr>\n",
       "      <td>2</td>\n",
       "      <td>Kyiv - Vynitsya</td>\n",
       "    </tr>\n",
       "    <tr>\n",
       "      <td>3</td>\n",
       "      <td>Kyiv - Dnipro</td>\n",
       "    </tr>\n",
       "    <tr>\n",
       "      <td>4</td>\n",
       "      <td>Lviv - Odesa</td>\n",
       "    </tr>\n",
       "  </tbody>\n",
       "</table>\n",
       "</div>"
      ],
      "text/plain": [
       "             Route\n",
       "0   Kharkiv - Lviv\n",
       "1    Kyiv - Izmail\n",
       "2  Kyiv - Vynitsya\n",
       "3    Kyiv - Dnipro\n",
       "4     Lviv - Odesa"
      ]
     },
     "execution_count": 41,
     "metadata": {},
     "output_type": "execute_result"
    }
   ],
   "source": [
    "trains[['Route']]"
   ]
  },
  {
   "cell_type": "code",
   "execution_count": 42,
   "metadata": {},
   "outputs": [
    {
     "data": {
      "text/html": [
       "<div>\n",
       "<style scoped>\n",
       "    .dataframe tbody tr th:only-of-type {\n",
       "        vertical-align: middle;\n",
       "    }\n",
       "\n",
       "    .dataframe tbody tr th {\n",
       "        vertical-align: top;\n",
       "    }\n",
       "\n",
       "    .dataframe thead th {\n",
       "        text-align: right;\n",
       "    }\n",
       "</style>\n",
       "<table border=\"1\" class=\"dataframe\">\n",
       "  <thead>\n",
       "    <tr style=\"text-align: right;\">\n",
       "      <th></th>\n",
       "      <th>Train</th>\n",
       "      <th>Departure time</th>\n",
       "      <th>Arrival time</th>\n",
       "      <th>Route</th>\n",
       "      <th>Frequency</th>\n",
       "    </tr>\n",
       "  </thead>\n",
       "  <tbody>\n",
       "    <tr>\n",
       "      <td>0</td>\n",
       "      <td>111Л</td>\n",
       "      <td>2020-04-07 09:50:00</td>\n",
       "      <td>2020-04-07 16:13:00</td>\n",
       "      <td>Kharkiv - Lviv</td>\n",
       "      <td>everyday</td>\n",
       "    </tr>\n",
       "    <tr>\n",
       "      <td>1</td>\n",
       "      <td>145К</td>\n",
       "      <td>2020-04-07 17:45:00</td>\n",
       "      <td>2020-04-07 10:30:00</td>\n",
       "      <td>Kyiv - Izmail</td>\n",
       "      <td>everyday</td>\n",
       "    </tr>\n",
       "  </tbody>\n",
       "</table>\n",
       "</div>"
      ],
      "text/plain": [
       "  Train      Departure time        Arrival time           Route Frequency\n",
       "0  111Л 2020-04-07 09:50:00 2020-04-07 16:13:00  Kharkiv - Lviv  everyday\n",
       "1  145К 2020-04-07 17:45:00 2020-04-07 10:30:00   Kyiv - Izmail  everyday"
      ]
     },
     "execution_count": 42,
     "metadata": {},
     "output_type": "execute_result"
    }
   ],
   "source": [
    "trains.head(2)"
   ]
  },
  {
   "cell_type": "code",
   "execution_count": 43,
   "metadata": {},
   "outputs": [
    {
     "data": {
      "text/html": [
       "<div>\n",
       "<style scoped>\n",
       "    .dataframe tbody tr th:only-of-type {\n",
       "        vertical-align: middle;\n",
       "    }\n",
       "\n",
       "    .dataframe tbody tr th {\n",
       "        vertical-align: top;\n",
       "    }\n",
       "\n",
       "    .dataframe thead th {\n",
       "        text-align: right;\n",
       "    }\n",
       "</style>\n",
       "<table border=\"1\" class=\"dataframe\">\n",
       "  <thead>\n",
       "    <tr style=\"text-align: right;\">\n",
       "      <th></th>\n",
       "      <th>Train</th>\n",
       "      <th>Departure time</th>\n",
       "      <th>Arrival time</th>\n",
       "      <th>Route</th>\n",
       "      <th>Frequency</th>\n",
       "    </tr>\n",
       "  </thead>\n",
       "  <tbody>\n",
       "    <tr>\n",
       "      <td>0</td>\n",
       "      <td>111Л</td>\n",
       "      <td>2020-04-07 09:50:00</td>\n",
       "      <td>2020-04-07 16:13:00</td>\n",
       "      <td>Kharkiv - Lviv</td>\n",
       "      <td>everyday</td>\n",
       "    </tr>\n",
       "    <tr>\n",
       "      <td>1</td>\n",
       "      <td>145К</td>\n",
       "      <td>2020-04-07 17:45:00</td>\n",
       "      <td>2020-04-07 10:30:00</td>\n",
       "      <td>Kyiv - Izmail</td>\n",
       "      <td>everyday</td>\n",
       "    </tr>\n",
       "    <tr>\n",
       "      <td>2</td>\n",
       "      <td>867К</td>\n",
       "      <td>2020-04-07 05:38:00</td>\n",
       "      <td>2020-04-07 09:28:00</td>\n",
       "      <td>Kyiv - Vynitsya</td>\n",
       "      <td>everyday</td>\n",
       "    </tr>\n",
       "  </tbody>\n",
       "</table>\n",
       "</div>"
      ],
      "text/plain": [
       "  Train      Departure time        Arrival time            Route Frequency\n",
       "0  111Л 2020-04-07 09:50:00 2020-04-07 16:13:00   Kharkiv - Lviv  everyday\n",
       "1  145К 2020-04-07 17:45:00 2020-04-07 10:30:00    Kyiv - Izmail  everyday\n",
       "2  867К 2020-04-07 05:38:00 2020-04-07 09:28:00  Kyiv - Vynitsya  everyday"
      ]
     },
     "execution_count": 43,
     "metadata": {},
     "output_type": "execute_result"
    }
   ],
   "source": [
    "trains[:3]"
   ]
  },
  {
   "cell_type": "code",
   "execution_count": 44,
   "metadata": {},
   "outputs": [
    {
     "data": {
      "text/html": [
       "<div>\n",
       "<style scoped>\n",
       "    .dataframe tbody tr th:only-of-type {\n",
       "        vertical-align: middle;\n",
       "    }\n",
       "\n",
       "    .dataframe tbody tr th {\n",
       "        vertical-align: top;\n",
       "    }\n",
       "\n",
       "    .dataframe thead th {\n",
       "        text-align: right;\n",
       "    }\n",
       "</style>\n",
       "<table border=\"1\" class=\"dataframe\">\n",
       "  <thead>\n",
       "    <tr style=\"text-align: right;\">\n",
       "      <th></th>\n",
       "      <th>Train</th>\n",
       "      <th>Route</th>\n",
       "    </tr>\n",
       "  </thead>\n",
       "  <tbody>\n",
       "    <tr>\n",
       "      <td>1</td>\n",
       "      <td>145К</td>\n",
       "      <td>Kyiv - Izmail</td>\n",
       "    </tr>\n",
       "    <tr>\n",
       "      <td>3</td>\n",
       "      <td>734Л</td>\n",
       "      <td>Kyiv - Dnipro</td>\n",
       "    </tr>\n",
       "    <tr>\n",
       "      <td>4</td>\n",
       "      <td>136Л</td>\n",
       "      <td>Lviv - Odesa</td>\n",
       "    </tr>\n",
       "  </tbody>\n",
       "</table>\n",
       "</div>"
      ],
      "text/plain": [
       "  Train          Route\n",
       "1  145К  Kyiv - Izmail\n",
       "3  734Л  Kyiv - Dnipro\n",
       "4  136Л   Lviv - Odesa"
      ]
     },
     "execution_count": 44,
     "metadata": {},
     "output_type": "execute_result"
    }
   ],
   "source": [
    "trains.loc[[1,3,4], ['Train','Route']]"
   ]
  },
  {
   "cell_type": "code",
   "execution_count": 45,
   "metadata": {},
   "outputs": [
    {
     "data": {
      "text/html": [
       "<div>\n",
       "<style scoped>\n",
       "    .dataframe tbody tr th:only-of-type {\n",
       "        vertical-align: middle;\n",
       "    }\n",
       "\n",
       "    .dataframe tbody tr th {\n",
       "        vertical-align: top;\n",
       "    }\n",
       "\n",
       "    .dataframe thead th {\n",
       "        text-align: right;\n",
       "    }\n",
       "</style>\n",
       "<table border=\"1\" class=\"dataframe\">\n",
       "  <thead>\n",
       "    <tr style=\"text-align: right;\">\n",
       "      <th></th>\n",
       "      <th>Train</th>\n",
       "      <th>Route</th>\n",
       "    </tr>\n",
       "  </thead>\n",
       "  <tbody>\n",
       "    <tr>\n",
       "      <td>1</td>\n",
       "      <td>145К</td>\n",
       "      <td>Kyiv - Izmail</td>\n",
       "    </tr>\n",
       "    <tr>\n",
       "      <td>3</td>\n",
       "      <td>734Л</td>\n",
       "      <td>Kyiv - Dnipro</td>\n",
       "    </tr>\n",
       "    <tr>\n",
       "      <td>4</td>\n",
       "      <td>136Л</td>\n",
       "      <td>Lviv - Odesa</td>\n",
       "    </tr>\n",
       "  </tbody>\n",
       "</table>\n",
       "</div>"
      ],
      "text/plain": [
       "  Train          Route\n",
       "1  145К  Kyiv - Izmail\n",
       "3  734Л  Kyiv - Dnipro\n",
       "4  136Л   Lviv - Odesa"
      ]
     },
     "execution_count": 45,
     "metadata": {},
     "output_type": "execute_result"
    }
   ],
   "source": [
    "trains.iloc[[1,3,4],[0,3]] ~# trains.ix"
   ]
  },
  {
   "cell_type": "code",
   "execution_count": 49,
   "metadata": {},
   "outputs": [
    {
     "data": {
      "text/html": [
       "<div>\n",
       "<style scoped>\n",
       "    .dataframe tbody tr th:only-of-type {\n",
       "        vertical-align: middle;\n",
       "    }\n",
       "\n",
       "    .dataframe tbody tr th {\n",
       "        vertical-align: top;\n",
       "    }\n",
       "\n",
       "    .dataframe thead th {\n",
       "        text-align: right;\n",
       "    }\n",
       "</style>\n",
       "<table border=\"1\" class=\"dataframe\">\n",
       "  <thead>\n",
       "    <tr style=\"text-align: right;\">\n",
       "      <th></th>\n",
       "      <th>Train</th>\n",
       "      <th>Departure time</th>\n",
       "      <th>Arrival time</th>\n",
       "      <th>Route</th>\n",
       "      <th>Frequency</th>\n",
       "    </tr>\n",
       "  </thead>\n",
       "  <tbody>\n",
       "    <tr>\n",
       "      <td>0</td>\n",
       "      <td>111Л</td>\n",
       "      <td>2020-04-07 09:50:00</td>\n",
       "      <td>2020-04-07 16:13:00</td>\n",
       "      <td>Kharkiv - Lviv</td>\n",
       "      <td>everyday</td>\n",
       "    </tr>\n",
       "    <tr>\n",
       "      <td>1</td>\n",
       "      <td>145К</td>\n",
       "      <td>2020-04-07 17:45:00</td>\n",
       "      <td>2020-04-07 10:30:00</td>\n",
       "      <td>Kyiv - Izmail</td>\n",
       "      <td>everyday</td>\n",
       "    </tr>\n",
       "    <tr>\n",
       "      <td>3</td>\n",
       "      <td>734Л</td>\n",
       "      <td>2020-04-07 17:35:00</td>\n",
       "      <td>2020-04-07 23:29:00</td>\n",
       "      <td>Kyiv - Dnipro</td>\n",
       "      <td>twice a week</td>\n",
       "    </tr>\n",
       "  </tbody>\n",
       "</table>\n",
       "</div>"
      ],
      "text/plain": [
       "  Train      Departure time        Arrival time           Route     Frequency\n",
       "0  111Л 2020-04-07 09:50:00 2020-04-07 16:13:00  Kharkiv - Lviv      everyday\n",
       "1  145К 2020-04-07 17:45:00 2020-04-07 10:30:00   Kyiv - Izmail      everyday\n",
       "3  734Л 2020-04-07 17:35:00 2020-04-07 23:29:00   Kyiv - Dnipro  twice a week"
      ]
     },
     "execution_count": 49,
     "metadata": {},
     "output_type": "execute_result"
    }
   ],
   "source": [
    "trains[trains['Arrival time'] >= pd.datetime(2020,4,7,10,10)]"
   ]
  },
  {
   "cell_type": "code",
   "execution_count": 55,
   "metadata": {},
   "outputs": [
    {
     "data": {
      "text/html": [
       "<div>\n",
       "<style scoped>\n",
       "    .dataframe tbody tr th:only-of-type {\n",
       "        vertical-align: middle;\n",
       "    }\n",
       "\n",
       "    .dataframe tbody tr th {\n",
       "        vertical-align: top;\n",
       "    }\n",
       "\n",
       "    .dataframe thead th {\n",
       "        text-align: right;\n",
       "    }\n",
       "</style>\n",
       "<table border=\"1\" class=\"dataframe\">\n",
       "  <thead>\n",
       "    <tr style=\"text-align: right;\">\n",
       "      <th></th>\n",
       "      <th>Train</th>\n",
       "      <th>Departure time</th>\n",
       "      <th>Arrival time</th>\n",
       "      <th>Route</th>\n",
       "      <th>Frequency</th>\n",
       "    </tr>\n",
       "  </thead>\n",
       "  <tbody>\n",
       "    <tr>\n",
       "      <td>1</td>\n",
       "      <td>145К</td>\n",
       "      <td>2020-04-07 17:45:00</td>\n",
       "      <td>2020-04-07 10:30:00</td>\n",
       "      <td>Kyiv - Izmail</td>\n",
       "      <td>everyday</td>\n",
       "    </tr>\n",
       "    <tr>\n",
       "      <td>3</td>\n",
       "      <td>734Л</td>\n",
       "      <td>2020-04-07 17:35:00</td>\n",
       "      <td>2020-04-07 23:29:00</td>\n",
       "      <td>Kyiv - Dnipro</td>\n",
       "      <td>twice a week</td>\n",
       "    </tr>\n",
       "  </tbody>\n",
       "</table>\n",
       "</div>"
      ],
      "text/plain": [
       "  Train      Departure time        Arrival time          Route     Frequency\n",
       "1  145К 2020-04-07 17:45:00 2020-04-07 10:30:00  Kyiv - Izmail      everyday\n",
       "3  734Л 2020-04-07 17:35:00 2020-04-07 23:29:00  Kyiv - Dnipro  twice a week"
      ]
     },
     "execution_count": 55,
     "metadata": {},
     "output_type": "execute_result"
    }
   ],
   "source": [
    "trains[(trains['Arrival time'] >= pd.datetime(2020,4,7,10,10)) & (trains.Train != '111Л')]"
   ]
  },
  {
   "cell_type": "code",
   "execution_count": null,
   "metadata": {},
   "outputs": [],
   "source": []
  }
 ],
 "metadata": {
  "kernelspec": {
   "display_name": "Python 3",
   "language": "python",
   "name": "python3"
  },
  "language_info": {
   "codemirror_mode": {
    "name": "ipython",
    "version": 3
   },
   "file_extension": ".py",
   "mimetype": "text/x-python",
   "name": "python",
   "nbconvert_exporter": "python",
   "pygments_lexer": "ipython3",
   "version": "3.7.4"
  }
 },
 "nbformat": 4,
 "nbformat_minor": 2
}
