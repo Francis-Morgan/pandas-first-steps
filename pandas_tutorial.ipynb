{
 "cells": [
  {
   "cell_type": "code",
   "execution_count": 1,
   "metadata": {},
   "outputs": [],
   "source": [
    "import pandas as pd"
   ]
  },
  {
   "cell_type": "markdown",
   "metadata": {},
   "source": [
    "## Read  csv-file into DataFrame."
   ]
  },
  {
   "cell_type": "code",
   "execution_count": 49,
   "metadata": {},
   "outputs": [
    {
     "data": {
      "text/html": [
       "<div>\n",
       "<style scoped>\n",
       "    .dataframe tbody tr th:only-of-type {\n",
       "        vertical-align: middle;\n",
       "    }\n",
       "\n",
       "    .dataframe tbody tr th {\n",
       "        vertical-align: top;\n",
       "    }\n",
       "\n",
       "    .dataframe thead th {\n",
       "        text-align: right;\n",
       "    }\n",
       "</style>\n",
       "<table border=\"1\" class=\"dataframe\">\n",
       "  <thead>\n",
       "    <tr style=\"text-align: right;\">\n",
       "      <th></th>\n",
       "      <th>Train</th>\n",
       "      <th>Departure time</th>\n",
       "      <th>Arrival time</th>\n",
       "      <th>Route</th>\n",
       "    </tr>\n",
       "  </thead>\n",
       "  <tbody>\n",
       "    <tr>\n",
       "      <td>0</td>\n",
       "      <td>111Л</td>\n",
       "      <td>9:50</td>\n",
       "      <td>16:13</td>\n",
       "      <td>Kharkiv - Lviv</td>\n",
       "    </tr>\n",
       "    <tr>\n",
       "      <td>1</td>\n",
       "      <td>145К</td>\n",
       "      <td>17:45</td>\n",
       "      <td>10:30</td>\n",
       "      <td>Kyiv - Izmail</td>\n",
       "    </tr>\n",
       "    <tr>\n",
       "      <td>2</td>\n",
       "      <td>867К</td>\n",
       "      <td>5:38</td>\n",
       "      <td>9:28</td>\n",
       "      <td>Kyiv - Vynitsya</td>\n",
       "    </tr>\n",
       "    <tr>\n",
       "      <td>3</td>\n",
       "      <td>734Л</td>\n",
       "      <td>17:35</td>\n",
       "      <td>23:29</td>\n",
       "      <td>Kyiv - Dnipro</td>\n",
       "    </tr>\n",
       "    <tr>\n",
       "      <td>4</td>\n",
       "      <td>136Л</td>\n",
       "      <td>21:40</td>\n",
       "      <td>9:58</td>\n",
       "      <td>Lviv - Odesa</td>\n",
       "    </tr>\n",
       "  </tbody>\n",
       "</table>\n",
       "</div>"
      ],
      "text/plain": [
       "  Train Departure time Arrival time            Route\n",
       "0  111Л           9:50        16:13   Kharkiv - Lviv\n",
       "1  145К          17:45        10:30    Kyiv - Izmail\n",
       "2  867К           5:38         9:28  Kyiv - Vynitsya\n",
       "3  734Л          17:35        23:29    Kyiv - Dnipro\n",
       "4  136Л          21:40         9:58     Lviv - Odesa"
      ]
     },
     "execution_count": 49,
     "metadata": {},
     "output_type": "execute_result"
    }
   ],
   "source": [
    "trains = pd.read_csv('train.csv', delimiter=';',sep='\\t')\n",
    "trains"
   ]
  },
  {
   "cell_type": "markdown",
   "metadata": {},
   "source": [
    "## Get columns"
   ]
  },
  {
   "cell_type": "code",
   "execution_count": 50,
   "metadata": {},
   "outputs": [
    {
     "data": {
      "text/plain": [
       "Index(['Train', 'Departure time', 'Arrival time', 'Route'], dtype='object')"
      ]
     },
     "execution_count": 50,
     "metadata": {},
     "output_type": "execute_result"
    }
   ],
   "source": [
    "trains.columns\n"
   ]
  },
  {
   "cell_type": "code",
   "execution_count": 51,
   "metadata": {},
   "outputs": [
    {
     "data": {
      "text/plain": [
       "(5, 4)"
      ]
     },
     "execution_count": 51,
     "metadata": {},
     "output_type": "execute_result"
    }
   ],
   "source": [
    "trains.shape"
   ]
  },
  {
   "cell_type": "markdown",
   "metadata": {},
   "source": [
    "## Create a new line to add to the dataframe"
   ]
  },
  {
   "cell_type": "code",
   "execution_count": 52,
   "metadata": {},
   "outputs": [],
   "source": [
    "new_train = {'Departure time': '00:05','Arrival time': '4:40','Route': 'Odesa - Vinitsya'} "
   ]
  },
  {
   "cell_type": "code",
   "execution_count": 53,
   "metadata": {},
   "outputs": [],
   "source": [
    "trains = trains.append(new_train,ignore_index = True)"
   ]
  },
  {
   "cell_type": "code",
   "execution_count": 54,
   "metadata": {},
   "outputs": [
    {
     "data": {
      "text/html": [
       "<div>\n",
       "<style scoped>\n",
       "    .dataframe tbody tr th:only-of-type {\n",
       "        vertical-align: middle;\n",
       "    }\n",
       "\n",
       "    .dataframe tbody tr th {\n",
       "        vertical-align: top;\n",
       "    }\n",
       "\n",
       "    .dataframe thead th {\n",
       "        text-align: right;\n",
       "    }\n",
       "</style>\n",
       "<table border=\"1\" class=\"dataframe\">\n",
       "  <thead>\n",
       "    <tr style=\"text-align: right;\">\n",
       "      <th></th>\n",
       "      <th>Train</th>\n",
       "      <th>Departure time</th>\n",
       "      <th>Arrival time</th>\n",
       "      <th>Route</th>\n",
       "    </tr>\n",
       "  </thead>\n",
       "  <tbody>\n",
       "    <tr>\n",
       "      <td>0</td>\n",
       "      <td>111Л</td>\n",
       "      <td>9:50</td>\n",
       "      <td>16:13</td>\n",
       "      <td>Kharkiv - Lviv</td>\n",
       "    </tr>\n",
       "    <tr>\n",
       "      <td>1</td>\n",
       "      <td>145К</td>\n",
       "      <td>17:45</td>\n",
       "      <td>10:30</td>\n",
       "      <td>Kyiv - Izmail</td>\n",
       "    </tr>\n",
       "    <tr>\n",
       "      <td>2</td>\n",
       "      <td>867К</td>\n",
       "      <td>5:38</td>\n",
       "      <td>9:28</td>\n",
       "      <td>Kyiv - Vynitsya</td>\n",
       "    </tr>\n",
       "    <tr>\n",
       "      <td>3</td>\n",
       "      <td>734Л</td>\n",
       "      <td>17:35</td>\n",
       "      <td>23:29</td>\n",
       "      <td>Kyiv - Dnipro</td>\n",
       "    </tr>\n",
       "    <tr>\n",
       "      <td>4</td>\n",
       "      <td>136Л</td>\n",
       "      <td>21:40</td>\n",
       "      <td>9:58</td>\n",
       "      <td>Lviv - Odesa</td>\n",
       "    </tr>\n",
       "    <tr>\n",
       "      <td>5</td>\n",
       "      <td>NaN</td>\n",
       "      <td>00:05</td>\n",
       "      <td>4:40</td>\n",
       "      <td>Odesa - Vinitsya</td>\n",
       "    </tr>\n",
       "  </tbody>\n",
       "</table>\n",
       "</div>"
      ],
      "text/plain": [
       "  Train Departure time Arrival time             Route\n",
       "0  111Л           9:50        16:13    Kharkiv - Lviv\n",
       "1  145К          17:45        10:30     Kyiv - Izmail\n",
       "2  867К           5:38         9:28   Kyiv - Vynitsya\n",
       "3  734Л          17:35        23:29     Kyiv - Dnipro\n",
       "4  136Л          21:40         9:58      Lviv - Odesa\n",
       "5   NaN          00:05         4:40  Odesa - Vinitsya"
      ]
     },
     "execution_count": 54,
     "metadata": {},
     "output_type": "execute_result"
    }
   ],
   "source": [
    "trains"
   ]
  },
  {
   "cell_type": "markdown",
   "metadata": {},
   "source": [
    "## Add new column"
   ]
  },
  {
   "cell_type": "code",
   "execution_count": 55,
   "metadata": {},
   "outputs": [
    {
     "data": {
      "text/html": [
       "<div>\n",
       "<style scoped>\n",
       "    .dataframe tbody tr th:only-of-type {\n",
       "        vertical-align: middle;\n",
       "    }\n",
       "\n",
       "    .dataframe tbody tr th {\n",
       "        vertical-align: top;\n",
       "    }\n",
       "\n",
       "    .dataframe thead th {\n",
       "        text-align: right;\n",
       "    }\n",
       "</style>\n",
       "<table border=\"1\" class=\"dataframe\">\n",
       "  <thead>\n",
       "    <tr style=\"text-align: right;\">\n",
       "      <th></th>\n",
       "      <th>Train</th>\n",
       "      <th>Departure time</th>\n",
       "      <th>Arrival time</th>\n",
       "      <th>Route</th>\n",
       "      <th>Frequency</th>\n",
       "    </tr>\n",
       "  </thead>\n",
       "  <tbody>\n",
       "    <tr>\n",
       "      <td>0</td>\n",
       "      <td>111Л</td>\n",
       "      <td>9:50</td>\n",
       "      <td>16:13</td>\n",
       "      <td>Kharkiv - Lviv</td>\n",
       "      <td>everyday</td>\n",
       "    </tr>\n",
       "    <tr>\n",
       "      <td>1</td>\n",
       "      <td>145К</td>\n",
       "      <td>17:45</td>\n",
       "      <td>10:30</td>\n",
       "      <td>Kyiv - Izmail</td>\n",
       "      <td>everyday</td>\n",
       "    </tr>\n",
       "    <tr>\n",
       "      <td>2</td>\n",
       "      <td>867К</td>\n",
       "      <td>5:38</td>\n",
       "      <td>9:28</td>\n",
       "      <td>Kyiv - Vynitsya</td>\n",
       "      <td>everyday</td>\n",
       "    </tr>\n",
       "    <tr>\n",
       "      <td>3</td>\n",
       "      <td>734Л</td>\n",
       "      <td>17:35</td>\n",
       "      <td>23:29</td>\n",
       "      <td>Kyiv - Dnipro</td>\n",
       "      <td>once a week</td>\n",
       "    </tr>\n",
       "    <tr>\n",
       "      <td>4</td>\n",
       "      <td>136Л</td>\n",
       "      <td>21:40</td>\n",
       "      <td>9:58</td>\n",
       "      <td>Lviv - Odesa</td>\n",
       "      <td>once a week</td>\n",
       "    </tr>\n",
       "    <tr>\n",
       "      <td>5</td>\n",
       "      <td>NaN</td>\n",
       "      <td>00:05</td>\n",
       "      <td>4:40</td>\n",
       "      <td>Odesa - Vinitsya</td>\n",
       "      <td>once a week</td>\n",
       "    </tr>\n",
       "  </tbody>\n",
       "</table>\n",
       "</div>"
      ],
      "text/plain": [
       "  Train Departure time Arrival time             Route    Frequency\n",
       "0  111Л           9:50        16:13    Kharkiv - Lviv     everyday\n",
       "1  145К          17:45        10:30     Kyiv - Izmail     everyday\n",
       "2  867К           5:38         9:28   Kyiv - Vynitsya     everyday\n",
       "3  734Л          17:35        23:29     Kyiv - Dnipro  once a week\n",
       "4  136Л          21:40         9:58      Lviv - Odesa  once a week\n",
       "5   NaN          00:05         4:40  Odesa - Vinitsya  once a week"
      ]
     },
     "execution_count": 55,
     "metadata": {},
     "output_type": "execute_result"
    }
   ],
   "source": [
    "trains['Frequency'] = ['everyday'] * 3 + ['once a week'] * 3\n",
    "trains"
   ]
  },
  {
   "cell_type": "markdown",
   "metadata": {},
   "source": [
    "## Delete line"
   ]
  },
  {
   "cell_type": "code",
   "execution_count": 56,
   "metadata": {},
   "outputs": [
    {
     "data": {
      "text/html": [
       "<div>\n",
       "<style scoped>\n",
       "    .dataframe tbody tr th:only-of-type {\n",
       "        vertical-align: middle;\n",
       "    }\n",
       "\n",
       "    .dataframe tbody tr th {\n",
       "        vertical-align: top;\n",
       "    }\n",
       "\n",
       "    .dataframe thead th {\n",
       "        text-align: right;\n",
       "    }\n",
       "</style>\n",
       "<table border=\"1\" class=\"dataframe\">\n",
       "  <thead>\n",
       "    <tr style=\"text-align: right;\">\n",
       "      <th></th>\n",
       "      <th>Train</th>\n",
       "      <th>Departure time</th>\n",
       "      <th>Arrival time</th>\n",
       "      <th>Route</th>\n",
       "      <th>Frequency</th>\n",
       "    </tr>\n",
       "  </thead>\n",
       "  <tbody>\n",
       "    <tr>\n",
       "      <td>0</td>\n",
       "      <td>111Л</td>\n",
       "      <td>9:50</td>\n",
       "      <td>16:13</td>\n",
       "      <td>Kharkiv - Lviv</td>\n",
       "      <td>everyday</td>\n",
       "    </tr>\n",
       "    <tr>\n",
       "      <td>1</td>\n",
       "      <td>145К</td>\n",
       "      <td>17:45</td>\n",
       "      <td>10:30</td>\n",
       "      <td>Kyiv - Izmail</td>\n",
       "      <td>everyday</td>\n",
       "    </tr>\n",
       "    <tr>\n",
       "      <td>2</td>\n",
       "      <td>867К</td>\n",
       "      <td>5:38</td>\n",
       "      <td>9:28</td>\n",
       "      <td>Kyiv - Vynitsya</td>\n",
       "      <td>everyday</td>\n",
       "    </tr>\n",
       "    <tr>\n",
       "      <td>3</td>\n",
       "      <td>734Л</td>\n",
       "      <td>17:35</td>\n",
       "      <td>23:29</td>\n",
       "      <td>Kyiv - Dnipro</td>\n",
       "      <td>once a week</td>\n",
       "    </tr>\n",
       "    <tr>\n",
       "      <td>4</td>\n",
       "      <td>136Л</td>\n",
       "      <td>21:40</td>\n",
       "      <td>9:58</td>\n",
       "      <td>Lviv - Odesa</td>\n",
       "      <td>once a week</td>\n",
       "    </tr>\n",
       "  </tbody>\n",
       "</table>\n",
       "</div>"
      ],
      "text/plain": [
       "  Train Departure time Arrival time            Route    Frequency\n",
       "0  111Л           9:50        16:13   Kharkiv - Lviv     everyday\n",
       "1  145К          17:45        10:30    Kyiv - Izmail     everyday\n",
       "2  867К           5:38         9:28  Kyiv - Vynitsya     everyday\n",
       "3  734Л          17:35        23:29    Kyiv - Dnipro  once a week\n",
       "4  136Л          21:40         9:58     Lviv - Odesa  once a week"
      ]
     },
     "execution_count": 56,
     "metadata": {},
     "output_type": "execute_result"
    }
   ],
   "source": [
    "trains.drop([5],axis = 0, inplace = True)\n",
    "trains"
   ]
  },
  {
   "cell_type": "code",
   "execution_count": 57,
   "metadata": {},
   "outputs": [
    {
     "data": {
      "text/html": [
       "<div>\n",
       "<style scoped>\n",
       "    .dataframe tbody tr th:only-of-type {\n",
       "        vertical-align: middle;\n",
       "    }\n",
       "\n",
       "    .dataframe tbody tr th {\n",
       "        vertical-align: top;\n",
       "    }\n",
       "\n",
       "    .dataframe thead th {\n",
       "        text-align: right;\n",
       "    }\n",
       "</style>\n",
       "<table border=\"1\" class=\"dataframe\">\n",
       "  <thead>\n",
       "    <tr style=\"text-align: right;\">\n",
       "      <th></th>\n",
       "      <th>Train</th>\n",
       "      <th>Departure time</th>\n",
       "      <th>Arrival time</th>\n",
       "      <th>Route</th>\n",
       "      <th>Frequency</th>\n",
       "    </tr>\n",
       "  </thead>\n",
       "  <tbody>\n",
       "    <tr>\n",
       "      <td>0</td>\n",
       "      <td>111Л</td>\n",
       "      <td>9:50</td>\n",
       "      <td>16:13</td>\n",
       "      <td>Kharkiv - Lviv</td>\n",
       "      <td>everyday</td>\n",
       "    </tr>\n",
       "    <tr>\n",
       "      <td>1</td>\n",
       "      <td>145К</td>\n",
       "      <td>17:45</td>\n",
       "      <td>10:30</td>\n",
       "      <td>Kyiv - Izmail</td>\n",
       "      <td>everyday</td>\n",
       "    </tr>\n",
       "    <tr>\n",
       "      <td>2</td>\n",
       "      <td>867К</td>\n",
       "      <td>5:38</td>\n",
       "      <td>9:28</td>\n",
       "      <td>Kyiv - Vynitsya</td>\n",
       "      <td>everyday</td>\n",
       "    </tr>\n",
       "    <tr>\n",
       "      <td>3</td>\n",
       "      <td>734Л</td>\n",
       "      <td>17:35</td>\n",
       "      <td>23:29</td>\n",
       "      <td>Kyiv - Dnipro</td>\n",
       "      <td>once a week</td>\n",
       "    </tr>\n",
       "    <tr>\n",
       "      <td>4</td>\n",
       "      <td>136Л</td>\n",
       "      <td>21:40</td>\n",
       "      <td>9:58</td>\n",
       "      <td>Lviv - Odesa</td>\n",
       "      <td>once a week</td>\n",
       "    </tr>\n",
       "  </tbody>\n",
       "</table>\n",
       "</div>"
      ],
      "text/plain": [
       "  Train Departure time Arrival time            Route    Frequency\n",
       "0  111Л           9:50        16:13   Kharkiv - Lviv     everyday\n",
       "1  145К          17:45        10:30    Kyiv - Izmail     everyday\n",
       "2  867К           5:38         9:28  Kyiv - Vynitsya     everyday\n",
       "3  734Л          17:35        23:29    Kyiv - Dnipro  once a week\n",
       "4  136Л          21:40         9:58     Lviv - Odesa  once a week"
      ]
     },
     "execution_count": 57,
     "metadata": {},
     "output_type": "execute_result"
    }
   ],
   "source": [
    "trains"
   ]
  },
  {
   "cell_type": "code",
   "execution_count": 58,
   "metadata": {},
   "outputs": [
    {
     "data": {
      "text/plain": [
       "Index(['Train', 'Departure time', 'Arrival time', 'Route', 'Frequency'], dtype='object')"
      ]
     },
     "execution_count": 58,
     "metadata": {},
     "output_type": "execute_result"
    }
   ],
   "source": [
    "trains.columns"
   ]
  },
  {
   "cell_type": "markdown",
   "metadata": {},
   "source": [
    "## Delete column"
   ]
  },
  {
   "cell_type": "code",
   "execution_count": 59,
   "metadata": {},
   "outputs": [
    {
     "data": {
      "text/html": [
       "<div>\n",
       "<style scoped>\n",
       "    .dataframe tbody tr th:only-of-type {\n",
       "        vertical-align: middle;\n",
       "    }\n",
       "\n",
       "    .dataframe tbody tr th {\n",
       "        vertical-align: top;\n",
       "    }\n",
       "\n",
       "    .dataframe thead th {\n",
       "        text-align: right;\n",
       "    }\n",
       "</style>\n",
       "<table border=\"1\" class=\"dataframe\">\n",
       "  <thead>\n",
       "    <tr style=\"text-align: right;\">\n",
       "      <th></th>\n",
       "      <th>Train</th>\n",
       "      <th>Departure time</th>\n",
       "      <th>Arrival time</th>\n",
       "      <th>Route</th>\n",
       "    </tr>\n",
       "  </thead>\n",
       "  <tbody>\n",
       "    <tr>\n",
       "      <td>0</td>\n",
       "      <td>111Л</td>\n",
       "      <td>9:50</td>\n",
       "      <td>16:13</td>\n",
       "      <td>Kharkiv - Lviv</td>\n",
       "    </tr>\n",
       "    <tr>\n",
       "      <td>1</td>\n",
       "      <td>145К</td>\n",
       "      <td>17:45</td>\n",
       "      <td>10:30</td>\n",
       "      <td>Kyiv - Izmail</td>\n",
       "    </tr>\n",
       "    <tr>\n",
       "      <td>2</td>\n",
       "      <td>867К</td>\n",
       "      <td>5:38</td>\n",
       "      <td>9:28</td>\n",
       "      <td>Kyiv - Vynitsya</td>\n",
       "    </tr>\n",
       "    <tr>\n",
       "      <td>3</td>\n",
       "      <td>734Л</td>\n",
       "      <td>17:35</td>\n",
       "      <td>23:29</td>\n",
       "      <td>Kyiv - Dnipro</td>\n",
       "    </tr>\n",
       "    <tr>\n",
       "      <td>4</td>\n",
       "      <td>136Л</td>\n",
       "      <td>21:40</td>\n",
       "      <td>9:58</td>\n",
       "      <td>Lviv - Odesa</td>\n",
       "    </tr>\n",
       "  </tbody>\n",
       "</table>\n",
       "</div>"
      ],
      "text/plain": [
       "  Train Departure time Arrival time            Route\n",
       "0  111Л           9:50        16:13   Kharkiv - Lviv\n",
       "1  145К          17:45        10:30    Kyiv - Izmail\n",
       "2  867К           5:38         9:28  Kyiv - Vynitsya\n",
       "3  734Л          17:35        23:29    Kyiv - Dnipro\n",
       "4  136Л          21:40         9:58     Lviv - Odesa"
      ]
     },
     "execution_count": 59,
     "metadata": {},
     "output_type": "execute_result"
    }
   ],
   "source": [
    "trains.drop('Frequency', axis = 1)"
   ]
  },
  {
   "cell_type": "markdown",
   "metadata": {},
   "source": [
    "## Save data frame"
   ]
  },
  {
   "cell_type": "code",
   "execution_count": 62,
   "metadata": {},
   "outputs": [],
   "source": [
    "trains.to_csv('pandas_tutorial_up.csv', index = None, sep = '\\t', header = True)"
   ]
  },
  {
   "cell_type": "code",
   "execution_count": null,
   "metadata": {},
   "outputs": [],
   "source": []
  }
 ],
 "metadata": {
  "kernelspec": {
   "display_name": "Python 3",
   "language": "python",
   "name": "python3"
  },
  "language_info": {
   "codemirror_mode": {
    "name": "ipython",
    "version": 3
   },
   "file_extension": ".py",
   "mimetype": "text/x-python",
   "name": "python",
   "nbconvert_exporter": "python",
   "pygments_lexer": "ipython3",
   "version": "3.7.4"
  }
 },
 "nbformat": 4,
 "nbformat_minor": 2
}
